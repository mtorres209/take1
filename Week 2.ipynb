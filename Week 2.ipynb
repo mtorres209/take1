{
    "cells": [
        {
            "cell_type": "markdown",
            "metadata": {
                "collapsed": true
            },
            "source": "Introduction\n\nThis project will demonstrate how data science can be used to make the roads safer for drivers. Using a dataset that contains traffic collision data and weather data we can analyze patterns in the weather and see how it correlates to the frequency and severity of car collisoins. This will help provide insights to answer the questions about what kinds of weather conditions make collsions more prevelant or more severe and the model can help alert drivers to times when they are at a higher risk of a collision due to the weather in the area. The findings could suggest driving in the rain causes more collisions and that they are more severe, or that driving on a sunny day is actually more dangerous perhaps due to people driving faster and the collisoins being more severe, or the data could show a mix where driving in certain contitions leads to more collisons, but they are less severe. Whatever the findings they would be informative to average drivers to help them stay safe, policy makers who can decide how to impliment new laws to make roads safer during certain conditions, auto manufacturers that can add new technology to cars to help them perform better in certain conditinos, and even broadcasters and traffic apps who can send out alerts to warn drivers of dangerous conditions more effectively."
        },
        {
            "cell_type": "markdown",
            "metadata": {},
            "source": "Data Description\n\nThe dataset used contains informatino on traffic acciendts in the city of Seattle starign in 2004. Every reported collision within the city is included. Collisions are coded on a 4 point scale from minor injusry to fatality. Road contidions, weather conditions and light conditions are also recorded for every crash. Any datapoints with unkowns for one of these variables will be excluded before analysis. These variables will be used for the analysis to "
        }
    ],
    "metadata": {
        "kernelspec": {
            "display_name": "Python 3.6",
            "language": "python",
            "name": "python3"
        },
        "language_info": {
            "codemirror_mode": {
                "name": "ipython",
                "version": 3
            },
            "file_extension": ".py",
            "mimetype": "text/x-python",
            "name": "python",
            "nbconvert_exporter": "python",
            "pygments_lexer": "ipython3",
            "version": "3.6.9"
        }
    },
    "nbformat": 4,
    "nbformat_minor": 1
}